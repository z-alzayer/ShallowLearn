{
 "cells": [
  {
   "cell_type": "code",
   "execution_count": null,
   "metadata": {},
   "outputs": [],
   "source": [
    "%load_ext autoreload"
   ]
  },
  {
   "cell_type": "code",
   "execution_count": null,
   "metadata": {},
   "outputs": [],
   "source": [
    "%autoreload 2"
   ]
  },
  {
   "cell_type": "code",
   "execution_count": null,
   "metadata": {},
   "outputs": [],
   "source": [
    "import ShallowLearn.ImageHelper as ih"
   ]
  },
  {
   "cell_type": "code",
   "execution_count": null,
   "metadata": {},
   "outputs": [],
   "source": [
    "import numpy as np\n",
    "import pandas as pd\n",
    "import matplotlib.pyplot as plt"
   ]
  },
  {
   "cell_type": "code",
   "execution_count": null,
   "metadata": {},
   "outputs": [],
   "source": [
    "import os"
   ]
  },
  {
   "cell_type": "code",
   "execution_count": null,
   "metadata": {},
   "outputs": [],
   "source": [
    "path = \"/media/ziad/Expansion/Cleaned_Data_Directory/\""
   ]
  },
  {
   "cell_type": "code",
   "execution_count": null,
   "metadata": {},
   "outputs": [],
   "source": [
    "data_paths = os.listdir(path)"
   ]
  },
  {
   "cell_type": "code",
   "execution_count": null,
   "metadata": {},
   "outputs": [],
   "source": [
    "data_paths = [i for i in data_paths if i.endswith(\".tiff\")]"
   ]
  },
  {
   "cell_type": "code",
   "execution_count": null,
   "metadata": {},
   "outputs": [],
   "source": [
    "data_frame = pd.DataFrame(data_paths)"
   ]
  },
  {
   "cell_type": "code",
   "execution_count": null,
   "metadata": {},
   "outputs": [],
   "source": [
    "def reshape_dataframe(df):\n",
    "    \"\"\"\n",
    "    Reshape a DataFrame such that each unique 4-digit ID at the beginning of the strings\n",
    "    becomes its own column, using the string following the ID as the column name.\n",
    "\n",
    "    Parameters:\n",
    "    - df: Input DataFrame with only one column of interest\n",
    "\n",
    "    Returns:\n",
    "    - Reshaped DataFrame\n",
    "    \"\"\"\n",
    "    # Ensure the DataFrame has only one column of interest\n",
    "    if df.shape[1] != 1:\n",
    "        raise ValueError(\"Input DataFrame should have only one column of interest.\")\n",
    "    \n",
    "    column_name = df.columns[0]\n",
    "    \n",
    "    # Extract the 4-digit identifier and the associated value\n",
    "    df['ID'] = df[column_name].str.extract(r'(\\d{4})')\n",
    "    df['ColumnName'] = df[column_name].str[5:]\n",
    "    \n",
    "    # Set multi-index and then unstack to reshape the DataFrame\n",
    "    df_reshaped = df.set_index(['ID', 'ColumnName']).drop(columns=column_name).unstack()\n",
    "    \n",
    "    # Drop top level of multi-index in columns and fill NaNs\n",
    "    df_reshaped.columns = df_reshaped.columns.droplevel(0)\n",
    "    df_reshaped.fillna('', inplace=True)\n",
    "\n",
    "    return df_reshaped.reset_index(drop=True)"
   ]
  },
  {
   "cell_type": "code",
   "execution_count": null,
   "metadata": {},
   "outputs": [],
   "source": [
    "# operation is done in place - no need to reassign\n",
    "reshape_dataframe(data_frame)"
   ]
  },
  {
   "cell_type": "code",
   "execution_count": null,
   "metadata": {},
   "outputs": [],
   "source": [
    "def extract_date_from_string(df, column_name='Image_name'):\n",
    "    \"\"\"\n",
    "    Extract the date from the specified column string and set it to a separate date column.\n",
    "\n",
    "    Parameters:\n",
    "    - df: Input DataFrame\n",
    "    - column_name: Name of the column containing strings with dates\n",
    "\n",
    "    Returns:\n",
    "    - DataFrame with an added 'Date' column\n",
    "    \"\"\"\n",
    "    # Extract date using regex\n",
    "    df['Date'] = df[column_name].str.extract(r'_(\\d{8})T')\n",
    "    \n",
    "    # Convert the extracted date string to datetime format\n",
    "    df['Date'] = pd.to_datetime(df['Date'], format='%Y%m%d')\n",
    "    \n",
    "    return df"
   ]
  },
  {
   "cell_type": "code",
   "execution_count": null,
   "metadata": {},
   "outputs": [],
   "source": [
    "data_frame.columns = [\"Path\", \"ID\", \"Image_name\"]"
   ]
  },
  {
   "cell_type": "code",
   "execution_count": null,
   "metadata": {},
   "outputs": [],
   "source": [
    "extract_date_from_string(data_frame)"
   ]
  },
  {
   "cell_type": "code",
   "execution_count": null,
   "metadata": {},
   "outputs": [],
   "source": [
    "len(data_frame.Date.unique())"
   ]
  },
  {
   "cell_type": "code",
   "execution_count": null,
   "metadata": {},
   "outputs": [],
   "source": [
    "img_no = 3500\n",
    "img, meta, bounds = ih.load_img(path + data_frame.Path[img_no], return_meta = True)"
   ]
  },
  {
   "cell_type": "code",
   "execution_count": null,
   "metadata": {},
   "outputs": [],
   "source": [
    "img.dtype"
   ]
  },
  {
   "cell_type": "code",
   "execution_count": null,
   "metadata": {},
   "outputs": [],
   "source": [
    "img = img.astype(np.float32)\n",
    "img = np.where(img == 0, np.nan, img)"
   ]
  },
  {
   "cell_type": "code",
   "execution_count": null,
   "metadata": {},
   "outputs": [],
   "source": [
    "rgb_img = ih.plot_rgb(img)\n"
   ]
  },
  {
   "cell_type": "code",
   "execution_count": null,
   "metadata": {},
   "outputs": [],
   "source": [
    "rgb_img\n",
    "rgb_img = rgb_img.astype(np.float32)\n",
    "rgb_img = np.where(rgb_img == 0, np.nan, rgb_img)"
   ]
  },
  {
   "cell_type": "code",
   "execution_count": null,
   "metadata": {},
   "outputs": [],
   "source": [
    "\n",
    "\n",
    "ih.plot_geotiff(rgb_img/255, bounds, data_frame.Path[img_no])"
   ]
  },
  {
   "cell_type": "code",
   "execution_count": null,
   "metadata": {},
   "outputs": [],
   "source": [
    "data_frame.Path[img_no]"
   ]
  },
  {
   "cell_type": "code",
   "execution_count": null,
   "metadata": {},
   "outputs": [],
   "source": [
    "image_list = []\n",
    "for id, image in zip(data_frame.ID, data_frame.Path):\n",
    "    if id == '6832':\n",
    "        image_path = path + image\n",
    "        print(image_path)\n",
    "        img, meta, bounds = ih.load_img(image_path, return_meta = True)\n",
    "        image_list.append(img)\n",
    "    "
   ]
  },
  {
   "cell_type": "code",
   "execution_count": null,
   "metadata": {},
   "outputs": [],
   "source": [
    "img_arr = np.array(image_list)"
   ]
  },
  {
   "cell_type": "code",
   "execution_count": null,
   "metadata": {},
   "outputs": [],
   "source": [
    "from sklearn.decomposition import PCA"
   ]
  },
  {
   "cell_type": "code",
   "execution_count": null,
   "metadata": {},
   "outputs": [],
   "source": [
    "pca = PCA(n_components=2)\n",
    "\n",
    "pca_data = pca.fit_transform(img_arr.reshape(48, -1))"
   ]
  },
  {
   "cell_type": "code",
   "execution_count": null,
   "metadata": {},
   "outputs": [],
   "source": [
    "pca.explained_variance_"
   ]
  },
  {
   "cell_type": "code",
   "execution_count": null,
   "metadata": {},
   "outputs": [],
   "source": [
    "plt.scatter(pca_data[:,0], pca_data[:,1])"
   ]
  },
  {
   "cell_type": "code",
   "execution_count": null,
   "metadata": {},
   "outputs": [],
   "source": [
    "import ShallowLearn.RadiometricNormalisation as rn"
   ]
  },
  {
   "cell_type": "code",
   "execution_count": null,
   "metadata": {},
   "outputs": [],
   "source": [
    "plt.imshow(ih.plot_rgb(img_arr[1]))"
   ]
  },
  {
   "cell_type": "code",
   "execution_count": null,
   "metadata": {},
   "outputs": [],
   "source": [
    "import ShallowLearn.Transform as tf"
   ]
  },
  {
   "cell_type": "code",
   "execution_count": null,
   "metadata": {},
   "outputs": [],
   "source": [
    "ref = img_arr[1]\n",
    "for i in img_arr:\n",
    "    src = i\n",
    "    normalised = rn.pca_based_normalization(src, ref)\n",
    "    hist_norm = rn.pca_filter_and_normalize_b8(src, ref, band_8=7, threshold=.25)\n",
    "    \n",
    "    fig, ax = plt.subplots(1, 6, figsize=(35, 10))\n",
    "    ih.plot_geotiff(ih.plot_rgb(src), ax=ax[0], bounds=bounds, title=\"Original\")\n",
    "    ih.plot_geotiff(ih.plot_rgb(normalised), ax=ax[1], bounds=bounds, title=\"Normalised - PCA - histogram matching\")\n",
    "    ih.plot_geotiff(ih.plot_rgb(hist_norm), ax= ax[2], bounds=bounds, title=\"Normalised - PCA-filter matching\")\n",
    "\n",
    "    ax[3].hist(tf.LCE_multi(src).flatten(), bins=100, alpha=0.5, label='src')\n",
    "    ax[3].set_title(\"Original hist\")\n",
    "    ax[4].hist(normalised.flatten(), bins=100, alpha=0.5, label='normalised')\n",
    "    ax[4].set_title(\"Normalised pca - hist\")\n",
    "    ax[5].hist(hist_norm.flatten(), bins=100, alpha=0.5, label='hist_norm')\n",
    "    ax[5].set_title(\"Normalised hist - PCA-filter\")\n",
    "    plt.show()\n"
   ]
  },
  {
   "cell_type": "code",
   "execution_count": null,
   "metadata": {},
   "outputs": [],
   "source": [
    "ref = img_arr[1]\n",
    "from sklearn.cluster import KMeans\n",
    "for i in img_arr:\n",
    "    try:\n",
    "        src = i\n",
    "\n",
    "\n",
    "        normalised = rn.pca_based_normalization(src, ref)\n",
    "        hist_norm = rn.pca_filter_and_normalize_b8(src, ref, band_8=7, threshold=.25)\n",
    "        \n",
    "        fig, ax = plt.subplots(1, 6, figsize=(35, 10))\n",
    "        kmeans = KMeans(n_clusters=10)\n",
    "        kmeans.fit(src.reshape(-1, 13))\n",
    "        src_kmeans = kmeans.predict(src.reshape(-1, 13)).reshape(src.shape[:2])\n",
    "        ih.plot_geotiff(ih.plot_rgb(src), ax=ax[0], bounds=bounds, title=\"Original\")\n",
    "        # ih.plot_geotiff(ih.plot_rgb(normalised), ax=ax[1], bounds=bounds, title=\"Normalised - PCA - histogram matching\")\n",
    "        ih.discrete_implotv2(src_kmeans, ax = ax[1])\n",
    "\n",
    "        ih.plot_geotiff(ih.plot_rgb(normalised), ax= ax[2], bounds=bounds, title=\"Normalised - hist/pca\")\n",
    "\n",
    "        ax[3].hist(tf.LCE_multi(src).flatten(), bins=100, alpha=0.5, label='src')\n",
    "        ax[3].set_title(\"Original hist\")\n",
    "\n",
    "        ax[4].hist(normalised.flatten(), bins=100, alpha=0.5, label='normalised')\n",
    "        ax[4].set_title(\"Normalised pca - hist\")\n",
    "\n",
    "        plt.show()\n",
    "    except:\n",
    "        print(\"Hist match failed\")\n",
    "    \n"
   ]
  },
  {
   "cell_type": "code",
   "execution_count": null,
   "metadata": {},
   "outputs": [],
   "source": [
    "ref = img_arr[1]\n",
    "from sklearn.cluster import KMeans\n",
    "cluster_defined = False\n",
    "counter = 0\n",
    "for i in img_arr:\n",
    "    try:\n",
    "        src = i\n",
    "\n",
    "        normalised = rn.pca_based_normalization(src, ref)\n",
    "        # hist_norm = rn.pca_filter_and_normalize_b8(src, ref, band_8=7, threshold=.25)\n",
    "        \n",
    "        fig, ax = plt.subplots(1, 5, figsize=(38, 10))\n",
    "        if cluster_defined:\n",
    "            cluster_centers = kmeans.cluster_centers_\n",
    "            kmeans = KMeans(n_clusters=10, init=cluster_centers)\n",
    "            kmeans.fit(normalised[:,:,[3,2,1,7]].reshape(-1, 4))\n",
    "        else:\n",
    "            kmeans = KMeans(n_clusters=10)\n",
    "            kmeans.fit(normalised[:,:,[3,2,1,7]].reshape(-1, 4))\n",
    "\n",
    "        src_kmeans = kmeans.predict(normalised[:,:,[3,2,1,7]].reshape(-1,4)).reshape(src.shape[:2])\n",
    "        ih.plot_geotiff(ih.plot_rgb(src), ax=ax[0], bounds=bounds, title=\"Original\")\n",
    "        # ih.plot_geotiff(ih.plot_rgb(normalised), ax=ax[1], bounds=bounds, title=\"Normalised - PCA - histogram matching\")\n",
    "        ih.discrete_implotv2(src_kmeans, ax = ax[1])\n",
    "\n",
    "        ih.plot_geotiff(ih.plot_rgb(normalised), ax= ax[2], bounds=bounds, title=\"Normalised - PCA-filter matching\")\n",
    "\n",
    "        ax[3].hist(tf.LCE_multi(src).flatten(), bins=100, alpha=0.5, label='src')\n",
    "        ax[3].set_title(\"Original hist\")\n",
    "        ax[4].hist(normalised.flatten(), bins=100, alpha=0.5, label='normalised')\n",
    "        ax[4].set_title(\"Normalised pca - hist\")\n",
    "\n",
    "        cluster_defined = True\n",
    "        cluster_centers = kmeans.cluster_centers_\n",
    "        plt.show()\n",
    "    except:\n",
    "        print(\"Hist match failed\")"
   ]
  },
  {
   "cell_type": "code",
   "execution_count": null,
   "metadata": {},
   "outputs": [],
   "source": []
  },
  {
   "cell_type": "code",
   "execution_count": null,
   "metadata": {},
   "outputs": [],
   "source": [
    "import numpy as np\n",
    "import matplotlib.pyplot as plt\n",
    "from sklearn.cluster import KMeans\n",
    "date_ = data_frame[data_frame.ID == '6832'].Date.values\n",
    "final_dates = []\n",
    "def process_images_with_kmeans(img_arr, ref):\n",
    "    cluster_defined = False\n",
    "    cluster_changes = []  # For tracking changes in cluster centers\n",
    "    cluster_centers_list = []  # For tracking the cluster centers themselves\n",
    "\n",
    "    counter = 0\n",
    "\n",
    "    for i in img_arr:\n",
    "        try:\n",
    "            src = i\n",
    "            normalised = rn.pca_based_normalization(src, ref)\n",
    "\n",
    "            fig, ax = plt.subplots(1, 5, figsize=(38, 10))\n",
    "\n",
    "            if cluster_defined:\n",
    "                old_cluster_centers = cluster_centers\n",
    "                cluster_centers = kmeans.cluster_centers_\n",
    "                kmeans = KMeans(n_clusters=10, init=cluster_centers)\n",
    "                kmeans.fit(normalised[:, :, [3, 2, 1, 7]].reshape(-1, 4))\n",
    "\n",
    "                # Compute distance between old and new centers\n",
    "                distances = np.linalg.norm(cluster_centers - old_cluster_centers, axis=1)\n",
    "                cluster_changes.append(distances)\n",
    "            else:\n",
    "                kmeans = KMeans(n_clusters=10)\n",
    "                kmeans.fit(normalised[:, :, [3, 2, 1, 7]].reshape(-1, 4))\n",
    "\n",
    "            src_kmeans = kmeans.predict(normalised[:, :, [3, 2, 1, 7]].reshape(-1, 4)).reshape(src.shape[:2])\n",
    "            ih.plot_geotiff(ih.plot_rgb(src), ax=ax[0], bounds=bounds, title=\"Original\")\n",
    "            ih.discrete_implotv2(src_kmeans, ax=ax[1])\n",
    "            ih.plot_geotiff(ih.plot_rgb(normalised), ax=ax[2], bounds=bounds, title=\"Normalised - PCA-filter matching\")\n",
    "            ax[3].hist(tf.LCE_multi(src).flatten(), bins=100, alpha=0.5, label='src')\n",
    "            ax[3].set_title(\"Original hist\")\n",
    "            ax[4].hist(normalised.flatten(), bins=100, alpha=0.5, label='normalised')\n",
    "            ax[4].set_title(\"Normalised pca - hist\")\n",
    "\n",
    "            cluster_defined = True\n",
    "            cluster_centers = kmeans.cluster_centers_\n",
    "            cluster_centers_list.append(cluster_centers)\n",
    "            final_dates.append(date_[counter])\n",
    "            counter += 1\n",
    "            plt.show()\n",
    "\n",
    "\n",
    "        except Exception as e:\n",
    "            print(\"Hist match failed due to error:\", e)\n",
    "\n",
    "    # Plot the changes in cluster centers\n",
    "    cluster_changes = np.array(cluster_changes)\n",
    "    for i in range(cluster_changes.shape[1]):\n",
    "        plt.plot(cluster_changes[:, i], label=f'Cluster {i}')\n",
    "    plt.xlabel('Iteration')\n",
    "    plt.ylabel('Change in Cluster Center')\n",
    "    plt.title('Evolution of Cluster Centers')\n",
    "    plt.legend()\n",
    "    plt.show()\n",
    "\n",
    "    # Plot the cluster centers themselves\n",
    "    cluster_centers_array = np.array(cluster_centers_list)\n",
    "    num_features = cluster_centers_array.shape[2]\n",
    "    for i in range(num_features):\n",
    "        for j in range(cluster_centers_array.shape[1]):\n",
    "            plt.plot(cluster_centers_array[:, j, i], label=f'Feature {i} for Cluster {j}')\n",
    "    plt.xlabel('Iteration')\n",
    "    plt.ylabel('Cluster Center Value')\n",
    "    plt.title('Evolution of Cluster Center Values')\n",
    "    plt.legend()\n",
    "    plt.show()\n",
    "\n",
    "    return cluster_changes, cluster_centers_list\n",
    "\n",
    "# Now you can call this function with your data:\n"
   ]
  },
  {
   "cell_type": "code",
   "execution_count": null,
   "metadata": {},
   "outputs": [],
   "source": [
    "cluster_changes, cluster_centers_list = process_images_with_kmeans(img_arr, ref)"
   ]
  },
  {
   "cell_type": "code",
   "execution_count": null,
   "metadata": {},
   "outputs": [],
   "source": [
    "for i in range(cluster_changes.shape[1]):\n",
    "    plt.plot(cluster_changes[:, i], label=f'Cluster {i}')\n",
    "plt.xlabel('Iteration')\n",
    "plt.ylabel('Change in Cluster Center')\n",
    "plt.title('Evolution of Cluster Centers')\n",
    "plt.legend()\n",
    "plt.show()\n",
    "\n",
    "# Plot the cluster centers themselves\n",
    "fig, ax = plt.subplots(figsize = (20,20))\n",
    "cluster_centers_array = np.array(cluster_centers_list)\n",
    "num_features = cluster_centers_array.shape[2]\n",
    "for i in range(num_features):\n",
    "    for j in range(cluster_centers_array.shape[1]):\n",
    "        plt.plot(cluster_centers_array[:, j, i], label=f'Feature {i} for Cluster {j}')\n",
    "plt.xlabel('Iteration')\n",
    "plt.ylabel('Cluster Center Value')\n",
    "plt.title('Evolution of Cluster Center Values')\n",
    "plt.legend()\n",
    "plt.show()"
   ]
  },
  {
   "cell_type": "code",
   "execution_count": null,
   "metadata": {},
   "outputs": [],
   "source": []
  },
  {
   "cell_type": "code",
   "execution_count": null,
   "metadata": {},
   "outputs": [],
   "source": [
    "def plot_changes(cluster_changes, cluster_centers_list):\n",
    "    # Convert lists to numpy arrays for easier manipulation\n",
    "    cluster_changes = np.array(cluster_changes)\n",
    "    cluster_centers_list = np.array(cluster_centers_list)\n",
    "\n",
    "    # Plot changes in cluster centers for clusters 1, 6, 7, 8\n",
    "    clusters_to_plot = [8]\n",
    "    for cluster in clusters_to_plot:\n",
    "        plt.plot(cluster_changes[:, cluster], label=f'Cluster {cluster}') # +1 because python is 0-indexed\n",
    "    plt.xlabel('Iteration')\n",
    "    plt.ylabel('Change in Cluster Center')\n",
    "    plt.title('Evolution of Cluster Centers')\n",
    "    plt.legend()\n",
    "    plt.show()\n",
    "    bands = [4,3,2,8]\n",
    "    # Plot cluster center values for clusters 1, 6, 7, 8\n",
    "    num_features = cluster_centers_list.shape[2]\n",
    "    for cluster in clusters_to_plot:\n",
    "        for feature in range(num_features):\n",
    "            plt.plot(cluster_centers_list[:, cluster, feature], label=f'Band {bands[feature] } for Cluster {cluster}')\n",
    "    plt.xlabel('Iteration')\n",
    "    plt.ylabel('Cluster Center Value')\n",
    "    plt.title('Evolution of Cluster Center Values')\n",
    "    plt.legend()\n",
    "    plt.show()\n",
    "\n",
    "# Now, just call the function with your data:\n",
    "plot_changes(cluster_changes, cluster_centers_list)"
   ]
  },
  {
   "cell_type": "code",
   "execution_count": null,
   "metadata": {},
   "outputs": [],
   "source": [
    "date_ = data_frame[data_frame.ID == '6832'].Date.values\n"
   ]
  },
  {
   "cell_type": "code",
   "execution_count": null,
   "metadata": {},
   "outputs": [],
   "source": [
    "final_dates"
   ]
  },
  {
   "cell_type": "code",
   "execution_count": null,
   "metadata": {},
   "outputs": [],
   "source": [
    "dates_2 = pd.to_datetime(final_dates)"
   ]
  },
  {
   "cell_type": "code",
   "execution_count": null,
   "metadata": {},
   "outputs": [],
   "source": [
    "dates_2"
   ]
  },
  {
   "cell_type": "code",
   "execution_count": null,
   "metadata": {},
   "outputs": [],
   "source": [
    "len(dates_2)"
   ]
  },
  {
   "cell_type": "code",
   "execution_count": null,
   "metadata": {},
   "outputs": [],
   "source": [
    "len(cluster_centers_list)"
   ]
  },
  {
   "cell_type": "code",
   "execution_count": null,
   "metadata": {},
   "outputs": [],
   "source": [
    "def plot_changes_with_dates(cluster_changes, cluster_centers_list, dates):\n",
    "    cluster_changes = np.array(cluster_changes)\n",
    "    cluster_centers_list = np.array(cluster_centers_list)\n",
    "\n",
    "    # Ensure that the length of dates matches the number of rows in cluster_changes and cluster_centers_list\n",
    "    # if len(dates) != len(cluster_changes):\n",
    "    #     raise ValueError(\"Length of dates must match number of rows in cluster_changes and cluster_centers_list\")\n",
    "\n",
    "    # Plot changes in cluster centers for clusters 1, 6, 7, 8\n",
    "    clusters_to_plot = [ 8]\n",
    "    # for cluster in clusters_to_plot:\n",
    "    #     plt.plot(dates, cluster_changes[:, cluster], label=f'Cluster {cluster + 1}')\n",
    "    # plt.xlabel('Date')\n",
    "    # plt.ylabel('Change in Cluster Center')\n",
    "    # plt.title('Evolution of Cluster Centers Over Time')\n",
    "    # plt.legend()\n",
    "    # plt.xticks(rotation=45)  # Rotate dates for better readability if needed\n",
    "    # plt.tight_layout()\n",
    "    # plt.show()\n",
    "\n",
    "    # Plot cluster center values for clusters 1, 6, 7, 8\n",
    "    num_features = cluster_centers_list.shape[2]\n",
    "    for cluster in clusters_to_plot:\n",
    "        for feature in range(num_features):\n",
    "            plt.plot(dates_2, cluster_centers_list[:, cluster, feature], label=f'Feature {feature + 1} for Cluster {cluster + 1}')\n",
    "    plt.xlabel('Date')\n",
    "    plt.ylabel('Cluster Center Value')\n",
    "    plt.title('Evolution of Cluster Center Values Over Time')\n",
    "    plt.legend()\n",
    "    plt.xticks(rotation=45)\n",
    "    plt.tight_layout()\n",
    "    plt.show()\n",
    "\n",
    "# Now, call the function with your data:\n",
    "plot_changes_with_dates(cluster_changes, cluster_centers_list, dates_2)"
   ]
  },
  {
   "cell_type": "code",
   "execution_count": null,
   "metadata": {},
   "outputs": [],
   "source": [
    "def plot_changes_with_dates(cluster_changes, cluster_centers_list, dates_2):\n",
    "    fig, ax = plt.subplots(figsize = (20,20))\n",
    "    cluster_changes = np.array(cluster_changes)\n",
    "    cluster_centers_list = np.array(cluster_centers_list)\n",
    "    cluster_no = 1\n",
    "    clusters_to_plot = [cluster_no]\n",
    "    bands = [4,3,2,8]\n",
    "    # Plot cluster center values for cluster 8\n",
    "    num_features = cluster_centers_list.shape[2]\n",
    "    for feature in range(num_features):\n",
    "        plt.scatter(dates_2, cluster_centers_list[:, cluster_no, feature], label=f'Band {bands[feature] } for Cluster {cluster_no}')  # Using 7 as an index because Python is 0-indexed\n",
    "    plt.xlabel('Date')\n",
    "    plt.ylabel('Cluster Center Value')\n",
    "    plt.title(f'Evolution of Cluster {cluster_no} Center Values Over Time')\n",
    "    plt.legend(loc= 'upper right')\n",
    "    plt.xticks(rotation=45)\n",
    "    plt.tight_layout()\n",
    "    plt.show()\n",
    "\n",
    "# Now, call the function with your data:\n",
    "plot_changes_with_dates(cluster_changes, cluster_centers_list, dates_2)"
   ]
  },
  {
   "cell_type": "code",
   "execution_count": null,
   "metadata": {},
   "outputs": [],
   "source": []
  }
 ],
 "metadata": {
  "kernelspec": {
   "display_name": "ShallowLearn",
   "language": "python",
   "name": "python3"
  },
  "language_info": {
   "codemirror_mode": {
    "name": "ipython",
    "version": 3
   },
   "file_extension": ".py",
   "mimetype": "text/x-python",
   "name": "python",
   "nbconvert_exporter": "python",
   "pygments_lexer": "ipython3",
   "version": "3.10.8"
  },
  "orig_nbformat": 4
 },
 "nbformat": 4,
 "nbformat_minor": 2
}
