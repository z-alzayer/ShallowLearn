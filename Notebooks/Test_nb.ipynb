{
 "cells": [
  {
   "cell_type": "code",
   "execution_count": 1,
   "metadata": {},
   "outputs": [],
   "source": [
    "import matplotlib.pyplot as plt\n",
    "import numpy as np\n",
    "import os\n",
    "import glob\n",
    "import joblib\n",
    "import pandas as pd\n",
    "from skimage.color import rgb2lab, lab2rgb"
   ]
  },
  {
   "cell_type": "code",
   "execution_count": 3,
   "metadata": {},
   "outputs": [
    {
     "name": "stdout",
     "output_type": "stream",
     "text": [
      "Hello World!\n"
     ]
    }
   ],
   "source": [
    "print(\"Hello World!\")"
   ]
  },
  {
   "cell_type": "code",
   "execution_count": null,
   "metadata": {},
   "outputs": [],
   "source": [
    "from ShallowLearn.Indices import mask_land"
   ]
  },
  {
   "cell_type": "code",
   "execution_count": null,
   "metadata": {},
   "outputs": [],
   "source": [
    "%load_ext autoreload\n",
    "%autoreload 2"
   ]
  },
  {
   "cell_type": "code",
   "execution_count": null,
   "metadata": {},
   "outputs": [],
   "source": [
    "# Import the ShallowLearn package\n",
    "import ShallowLearn as sl"
   ]
  },
  {
   "cell_type": "code",
   "execution_count": null,
   "metadata": {},
   "outputs": [],
   "source": [
    "from ShallowLearn import ImageHelper as ih\n",
    "from ShallowLearn import Transform as tr"
   ]
  },
  {
   "cell_type": "code",
   "execution_count": null,
   "metadata": {},
   "outputs": [],
   "source": [
    "path = \"/Volumes/NO NAME\""
   ]
  },
  {
   "cell_type": "code",
   "execution_count": null,
   "metadata": {},
   "outputs": [],
   "source": [
    "models = os.path.join(path, os.listdir(path)[2])\n",
    "tabular_data = os.path.join(path, os.listdir(path)[3])\n",
    "cleaned_data = os.path.join(path, os.listdir(path)[0])\n",
    "honduras = os.path.join(path, os.listdir(path)[1])"
   ]
  },
  {
   "cell_type": "code",
   "execution_count": null,
   "metadata": {},
   "outputs": [],
   "source": [
    "model = joblib.load(os.path.join(models, os.listdir(models)[0]))"
   ]
  },
  {
   "cell_type": "code",
   "execution_count": null,
   "metadata": {},
   "outputs": [],
   "source": [
    "file_list = glob.glob(cleaned_data + '/*6880*.tiff')\n"
   ]
  },
  {
   "cell_type": "code",
   "execution_count": null,
   "metadata": {},
   "outputs": [],
   "source": [
    "file_list"
   ]
  },
  {
   "cell_type": "code",
   "execution_count": null,
   "metadata": {},
   "outputs": [],
   "source": [
    "image_means = {}\n",
    "for file in file_list:\n",
    "    image = ih.load_img(file)\n",
    "    image_means[file] = np.nanmean(image)"
   ]
  },
  {
   "cell_type": "code",
   "execution_count": null,
   "metadata": {},
   "outputs": [],
   "source": [
    "import re"
   ]
  },
  {
   "cell_type": "code",
   "execution_count": null,
   "metadata": {},
   "outputs": [],
   "source": [
    "#  '/Volumes/NO NAME/Cleaned_Data_Directory/6880_T55LCD_20210720T003709no_transform.tiff',\n",
    "#  '/Volumes/NO NAME/Cleaned_Data_Directory/6880_T55LCD_20210730T003709no_transform.tiff',\n",
    "#  '/Volumes/NO NAME/Cleaned_Data_Directory/6880_T55LCD_20220307T003659no_transform.tiff',\n",
    "#  '/Volumes/NO NAME/Cleaned_Data_Directory/6880_T55LCD_20220406T003659no_transform.tiff',\n",
    "#  '/Volumes/NO NAME/Cleaned_Data_Directory/6880_T55LCD_20220526T003709no_transform.tiff'\n",
    "# Regex statement to extract date from above string\n",
    "\n",
    "def get_date(string):\n",
    "    return re.findall(r'\\d{8}', string)[0]\n",
    "\n",
    "# Get the dates from the file names\n",
    "dates = [get_date(file) for file in file_list]"
   ]
  },
  {
   "cell_type": "code",
   "execution_count": null,
   "metadata": {},
   "outputs": [],
   "source": [
    "# convert dates to pd.datetime objects\n",
    "dates = pd.to_datetime(dates, format='%Y%m%d')"
   ]
  },
  {
   "cell_type": "code",
   "execution_count": null,
   "metadata": {},
   "outputs": [],
   "source": [
    "# matplotlib plot that plots means against date times\n",
    "plt.plot(dates, list(image_means.values()), 'o')"
   ]
  },
  {
   "cell_type": "code",
   "execution_count": null,
   "metadata": {},
   "outputs": [],
   "source": [
    "land_masks = {}\n",
    "for file in file_list:\n",
    "    image = ih.load_img(file)\n",
    "    land_masks[file] = mask_land(tr.LCE_multi(image), 'B08', 10)\n",
    "    image_means[file] = np.nanmean(ih.apply_mask(image, land_masks[file]))"
   ]
  },
  {
   "cell_type": "code",
   "execution_count": null,
   "metadata": {},
   "outputs": [],
   "source": [
    "land_masks = {}\n",
    "image_files_masked = {}\n",
    "for file in file_list:\n",
    "    image = ih.load_img(file)\n",
    "    land_masks[file] = mask_land(tr.LCE_multi(image), 'B08', 10)\n",
    "    image_means[file] = np.nanmean(ih.apply_mask(image, ~land_masks[file]))\n",
    "    image_files_masked[file] = ih.apply_mask(image, ~land_masks[file])"
   ]
  },
  {
   "cell_type": "code",
   "execution_count": null,
   "metadata": {},
   "outputs": [],
   "source": [
    "# matplotlib plot that plots means against date times\n",
    "plt.plot(dates, list(image_means.values()), 'o')"
   ]
  },
  {
   "cell_type": "code",
   "execution_count": null,
   "metadata": {},
   "outputs": [],
   "source": [
    "import joblib"
   ]
  },
  {
   "cell_type": "code",
   "execution_count": null,
   "metadata": {},
   "outputs": [],
   "source": [
    "models"
   ]
  },
  {
   "cell_type": "code",
   "execution_count": null,
   "metadata": {},
   "outputs": [],
   "source": [
    "model_path = os.path.join(models, os.listdir(models)[0])"
   ]
  },
  {
   "cell_type": "code",
   "execution_count": null,
   "metadata": {},
   "outputs": [],
   "source": [
    "model = joblib.load(model_path)"
   ]
  },
  {
   "cell_type": "code",
   "execution_count": null,
   "metadata": {},
   "outputs": [],
   "source": [
    "ih.plot_rgb(image_files_masked[file], plot = True)"
   ]
  },
  {
   "cell_type": "code",
   "execution_count": null,
   "metadata": {},
   "outputs": [],
   "source": [
    "ih.discrete_implot(ih.predict_mask(image_files_masked[file], model_path))"
   ]
  },
  {
   "cell_type": "code",
   "execution_count": null,
   "metadata": {},
   "outputs": [],
   "source": [
    "reefs_only = {}\n",
    "reef_means = {}\n",
    "for keys, vals in image_files_masked.items():\n",
    "    mask = np.expand_dims(ih.predict_mask(image_files_masked[file], model_path, mask_val=4), axis = 2)\n",
    "    reefs_only[keys] = ih.apply_mask(vals, mask)\n",
    "    #transform image to lab space\n",
    "    reefs_only[keys] = rgb2lab(ih.plot_rgb(reefs_only[keys]))\n",
    "    # lce transform the lab image\n",
    "    reefs_only[keys][:,:,0] = tr.BCET(reefs_only[keys][:,:,0])\n",
    "    reef_means[keys] = np.nanmean(reefs_only[keys], axis = (0,1))"
   ]
  },
  {
   "cell_type": "code",
   "execution_count": null,
   "metadata": {},
   "outputs": [],
   "source": [
    "# matplotlib plot that plots means against date times\n",
    "plt.plot(dates, list(reef_means.values()), 'o')\n",
    "plt.gca().set_ylim([109.9, 110.05])"
   ]
  },
  {
   "cell_type": "code",
   "execution_count": null,
   "metadata": {},
   "outputs": [],
   "source": [
    "reefs_only = {}\n",
    "reef_means = {}\n",
    "for keys, vals in image_files_masked.items():\n",
    "    mask = np.expand_dims(ih.predict_mask(image_files_masked[file], model_path, mask_val=4), axis = 2)\n",
    "    reefs_only[keys] = ih.apply_mask(vals, mask)\n",
    "    #transform image to lab space\n",
    "    reefs_only[keys] = rgb2lab(ih.plot_rgb(reefs_only[keys]))\n",
    "    # lce transform the lab image\n",
    "    try:\n",
    "        reefs_only[keys][:,:,0] = tr.linear_contrast_enhancement(reefs_only[keys][:,:,0])\n",
    "        reef_means[keys] = np.nanmean(reefs_only[keys], axis = (0,1))\n",
    "    except:\n",
    "        del reefs_only[keys]"
   ]
  },
  {
   "cell_type": "code",
   "execution_count": null,
   "metadata": {},
   "outputs": [],
   "source": [
    "dates = [get_date(file) for file in reefs_only.keys()]"
   ]
  },
  {
   "cell_type": "code",
   "execution_count": null,
   "metadata": {},
   "outputs": [],
   "source": [
    "dates = pd.to_datetime(dates, format='%Y%m%d')"
   ]
  },
  {
   "cell_type": "code",
   "execution_count": null,
   "metadata": {},
   "outputs": [],
   "source": [
    "# extract the first value from the array of means\n",
    "arr_vals = list(reef_means.values())\n",
    "arr_vals = [val[0] for val in arr_vals]\n",
    "# remove the mean from all the values in the array\n",
    "arr_vals = [val - arr_vals[0] for val in arr_vals]"
   ]
  },
  {
   "cell_type": "code",
   "execution_count": null,
   "metadata": {},
   "outputs": [],
   "source": [
    "# matplotlib plot that plots means against date times\n",
    "plt.plot(dates, arr_vals, 'o')\n",
    "# plt.gca().set_ylim([109.9, 110.05])"
   ]
  },
  {
   "cell_type": "code",
   "execution_count": null,
   "metadata": {},
   "outputs": [],
   "source": [
    "# print the outliers in the data of means\n",
    "for d, v in zip(dates, arr_vals):\n",
    "    if v < -0.01:\n",
    "        print(d, v)"
   ]
  },
  {
   "cell_type": "code",
   "execution_count": null,
   "metadata": {},
   "outputs": [],
   "source": [
    "# show the original image data for the outlier\n",
    "for keys, vals in image_files_masked.items():\n",
    "    if get_date(keys) == '20190211':\n",
    "        print(keys)\n",
    "        ih.plot_rgb(vals, plot = True)\n",
    "        plt.show()"
   ]
  },
  {
   "cell_type": "code",
   "execution_count": null,
   "metadata": {},
   "outputs": [],
   "source": [
    "ih.predict_mask(image_files_masked[file], model_path, mask_val=4)"
   ]
  },
  {
   "cell_type": "code",
   "execution_count": null,
   "metadata": {},
   "outputs": [],
   "source": [
    "plt.plot(image_means)"
   ]
  },
  {
   "cell_type": "code",
   "execution_count": null,
   "metadata": {},
   "outputs": [],
   "source": [
    "img_test = ih.load_img(file_list[19])\n"
   ]
  },
  {
   "cell_type": "code",
   "execution_count": null,
   "metadata": {},
   "outputs": [],
   "source": [
    "ih.plot_rgb(tr.BCET_multi(img_test), plot = True)"
   ]
  },
  {
   "cell_type": "code",
   "execution_count": null,
   "metadata": {},
   "outputs": [],
   "source": [
    "ih.plot_lab(tr.BCET_multi(img_test), plot = True)"
   ]
  },
  {
   "cell_type": "code",
   "execution_count": null,
   "metadata": {},
   "outputs": [],
   "source": [
    "ih.plot_histograms(tr.BCET_multi(img_test))"
   ]
  },
  {
   "cell_type": "code",
   "execution_count": null,
   "metadata": {},
   "outputs": [],
   "source": [
    "band_mean = np.mean(tr.BCET_multi(img_test), axis = (0,1))"
   ]
  },
  {
   "cell_type": "code",
   "execution_count": null,
   "metadata": {},
   "outputs": [],
   "source": [
    "img_test = ih.load_img(file_list[25])"
   ]
  },
  {
   "cell_type": "code",
   "execution_count": null,
   "metadata": {},
   "outputs": [],
   "source": [
    "ih.plot_histograms(tr.BCET_multi(img_test))"
   ]
  },
  {
   "cell_type": "code",
   "execution_count": null,
   "metadata": {},
   "outputs": [],
   "source": [
    "ih.plot_rgb(tr.BCET_multi(img_test), plot = True)"
   ]
  },
  {
   "cell_type": "code",
   "execution_count": null,
   "metadata": {},
   "outputs": [],
   "source": [
    "band_mean2 = np.mean((img_test), axis = (0,1))"
   ]
  },
  {
   "cell_type": "code",
   "execution_count": null,
   "metadata": {},
   "outputs": [],
   "source": [
    "lab_img = ih.plot_lab(img_test, plot = False)"
   ]
  },
  {
   "cell_type": "code",
   "execution_count": null,
   "metadata": {},
   "outputs": [],
   "source": [
    "ih.plot_histograms(lab_img)"
   ]
  },
  {
   "cell_type": "code",
   "execution_count": null,
   "metadata": {},
   "outputs": [],
   "source": [
    "lab_img[:,:,0] = tr.linear_contrast_enhancement(lab_img[:,:,0])"
   ]
  },
  {
   "cell_type": "code",
   "execution_count": null,
   "metadata": {},
   "outputs": [],
   "source": []
  },
  {
   "cell_type": "code",
   "execution_count": null,
   "metadata": {},
   "outputs": [],
   "source": [
    "ih.plot_histograms(tr.LCE_multi(lab2rgb(lab_img)))"
   ]
  },
  {
   "cell_type": "code",
   "execution_count": null,
   "metadata": {},
   "outputs": [],
   "source": [
    "plt.imshow(lab2rgb(lab_img))"
   ]
  },
  {
   "cell_type": "code",
   "execution_count": null,
   "metadata": {},
   "outputs": [],
   "source": [
    "ih.plot_histograms(tr.LCE_multi(img_test - (band_median2)), plot = True)"
   ]
  },
  {
   "cell_type": "code",
   "execution_count": null,
   "metadata": {},
   "outputs": [],
   "source": [
    "# Import the data\n",
    "data = tr.LCE_multi(ih.load_img('/Users/ziad/Documents/GitHub/ShallowLearn/data/T55LCD_20160409T002712no_transform.tiff'))"
   ]
  },
  {
   "cell_type": "code",
   "execution_count": null,
   "metadata": {},
   "outputs": [],
   "source": [
    "ih.plot_rgb(data, plot = True)"
   ]
  },
  {
   "cell_type": "code",
   "execution_count": null,
   "metadata": {},
   "outputs": [],
   "source": [
    "# generate a list of integers up to 500\n",
    "n = 500\n",
    "x = np.arange(n)\n",
    "# randomly disorganise the list\n",
    "np.random.shuffle(x)"
   ]
  },
  {
   "cell_type": "code",
   "execution_count": null,
   "metadata": {},
   "outputs": [],
   "source": [
    "# function sorting the list\n",
    "def sort_list(x):\n",
    "    # create an empty list\n",
    "    y = []\n",
    "    # loop over the list\n",
    "    for i in range(len(x)):\n",
    "        # append the smallest value of the list\n",
    "        y.append(np.min(x))\n",
    "        # remove the smallest value from the list\n",
    "        x = np.delete(x, np.argmin(x))\n",
    "    return y\n",
    "#q what is the o time of the function and the sorting method used\n",
    "#a o(n^2) and selection sort\n",
    "#q how can we make it more efficient\n",
    "#a use a different sorting algorithm\n",
    "#q what other sorting algorithms do you know\n",
    "#a bubble sort, quick sort, merge sort, insertion sort, selection sort, heap sort, etc.\n",
    "#q what would be the fastest\n"
   ]
  },
  {
   "cell_type": "code",
   "execution_count": null,
   "metadata": {},
   "outputs": [],
   "source": [
    "# function sorting the list using quick sort\n",
    "def quick_sort_list(x):\n",
    "    # if the list is empty, return an empty list\n",
    "    if len(x) == 0:\n",
    "        return []\n",
    "    # if the list has only one element, return the list\n",
    "    if len(x) == 1:\n",
    "        return x\n",
    "    # if the list has more than one element, use quick sort\n",
    "    else:\n",
    "        # select the pivot\n",
    "        pivot = x[0]\n",
    "        # create two empty lists\n",
    "        left = []\n",
    "        right = []\n",
    "        # loop over the list\n",
    "        for i in range(1, len(x)):\n",
    "            # if the element is smaller than the pivot, append it to the left list\n",
    "            if x[i] < pivot:\n",
    "                left.append(x[i])\n",
    "            # if the element is larger than the pivot, append it to the right list\n",
    "            else:\n",
    "                right.append(x[i])\n",
    "        # return the sorted left list, the pivot and the sorted right list\n",
    "        return sort_list(left) + [pivot] + sort_list(right)\n"
   ]
  },
  {
   "cell_type": "code",
   "execution_count": null,
   "metadata": {},
   "outputs": [],
   "source": [
    "#time the functions\n",
    "import time\n",
    "# time the function sort_list\n",
    "start = time.time()\n",
    "sort_list(x)\n",
    "end = time.time()\n",
    "print('sort_list: ', end - start)\n",
    "# time the function quick_sort_list\n",
    "start = time.time()\n",
    "quick_sort_list(x)\n",
    "end = time.time()\n",
    "print('quick_sort_list: ', end - start)\n"
   ]
  },
  {
   "cell_type": "code",
   "execution_count": null,
   "metadata": {},
   "outputs": [],
   "source": [
    "\n",
    "import random\n",
    "\n",
    "# generate a list of 1000 random numbers from 1 to 1000000\n",
    "numbers = random.sample(range(1, 1000001), 1000)\n"
   ]
  },
  {
   "cell_type": "code",
   "execution_count": null,
   "metadata": {},
   "outputs": [],
   "source": [
    "# time the function sort_list\n",
    "start = time.time()\n",
    "sort_list(numbers)\n",
    "end = time.time()\n",
    "print('sort_list: ', end - start)\n",
    "# time the function quick_sort_list\n",
    "start = time.time()\n",
    "quick_sort_list(numbers)\n",
    "end = time.time()\n",
    "print('quick_sort_list: ', end - start)\n"
   ]
  },
  {
   "cell_type": "code",
   "execution_count": null,
   "metadata": {},
   "outputs": [],
   "source": [
    "import pandas as pd\n",
    "import numpy as np\n",
    "import geopandas as gpd\n",
    "from shapely.geometry import box\n",
    "import rasterio\n",
    "from rasterio.warp import transform_geom, calculate_default_transform\n",
    "from shapely.geometry import Point, Polygon\n"
   ]
  },
  {
   "cell_type": "code",
   "execution_count": null,
   "metadata": {},
   "outputs": [],
   "source": [
    "data"
   ]
  },
  {
   "cell_type": "code",
   "execution_count": null,
   "metadata": {},
   "outputs": [],
   "source": [
    "coral_watch_path = os.path.join(tabular_data, 'coral_watch_ala')"
   ]
  },
  {
   "cell_type": "code",
   "execution_count": null,
   "metadata": {},
   "outputs": [],
   "source": [
    "os.listdir(coral_watch_path) "
   ]
  },
  {
   "cell_type": "code",
   "execution_count": null,
   "metadata": {},
   "outputs": [],
   "source": [
    "australia_coral_watch = os.path.join(coral_watch_path, 'data.xlsx')"
   ]
  },
  {
   "cell_type": "code",
   "execution_count": null,
   "metadata": {},
   "outputs": [],
   "source": [
    "df = pd.read_excel(australia_coral_watch, sheet_name=\"CoralWatch Random Survey\")\n",
    "gdf = gpd.GeoDataFrame(df, geometry=gpd.points_from_xy(df.Longitude, df.Latitude))"
   ]
  },
  {
   "cell_type": "code",
   "execution_count": null,
   "metadata": {},
   "outputs": [],
   "source": [
    "gdf['Observation date'] = pd.to_datetime(gdf['Observation date'])"
   ]
  },
  {
   "cell_type": "code",
   "execution_count": null,
   "metadata": {},
   "outputs": [],
   "source": [
    "average_data_frame = gdf.groupby(['Observation date', 'Site Name']).mean()['Average.']"
   ]
  },
  {
   "cell_type": "code",
   "execution_count": null,
   "metadata": {},
   "outputs": [],
   "source": [
    "grouped_data = average_data_frame.reset_index()\n",
    "grouped_data['Observation date'] = pd.to_datetime(grouped_data['Observation date'])\n",
    "grouped_data = grouped_data.set_index(['Observation date', 'Site Name'])"
   ]
  },
  {
   "cell_type": "code",
   "execution_count": null,
   "metadata": {},
   "outputs": [],
   "source": [
    "# Assuming your DataFrame is named 'grouped_data' with the fixed datetime index\n",
    "series_data = grouped_data['Average.']\n",
    "series_data = series_data.reset_index()  # Convert DataFrame to Series\n",
    "series_data['Observation date'] = pd.to_datetime(series_data['Observation date'])  # Convert to datetime type\n",
    "\n",
    "# Plotting scatter points of average values versus observation dates\n",
    "plt.figure(figsize=(15, 10))\n",
    "plt.scatter(series_data['Observation date'], series_data['Average.'], s=50, marker='o')\n",
    "# add another dataset to scatter\n",
    "plt.scatter(dates, arr_vals, s=50, marker='o')\n",
    "plt.xlabel('Observation date')\n",
    "plt.ylabel('Average')\n",
    "plt.title('Observation Date vs Average Australia')\n",
    "plt.grid(True)\n",
    "plt.show()"
   ]
  },
  {
   "cell_type": "code",
   "execution_count": null,
   "metadata": {},
   "outputs": [],
   "source": [
    "#linear interpolate the arr_vals\n",
    "from scipy.interpolate import interp1d\n"
   ]
  },
  {
   "cell_type": "code",
   "execution_count": null,
   "metadata": {},
   "outputs": [],
   "source": [
    "dates.columns = ['Observation date']"
   ]
  },
  {
   "cell_type": "code",
   "execution_count": null,
   "metadata": {},
   "outputs": [],
   "source": [
    "f = interp1d(dates['Observation date'], arr_vals, kind='linear')"
   ]
  },
  {
   "cell_type": "code",
   "execution_count": null,
   "metadata": {},
   "outputs": [],
   "source": [
    "series_data['Observation date'] = pd.to_datetime(series_data['Observation date'])"
   ]
  },
  {
   "cell_type": "code",
   "execution_count": null,
   "metadata": {},
   "outputs": [],
   "source": [
    "# remove seconds from pd.datetime\n",
    "series_data['Observation date'] = series_data['Observation date'].dt.floor('d')"
   ]
  },
  {
   "cell_type": "code",
   "execution_count": null,
   "metadata": {},
   "outputs": [],
   "source": [
    "f2 = interp1d(series_data['Observation date'], series_data['Average.'], kind='linear')"
   ]
  },
  {
   "cell_type": "code",
   "execution_count": null,
   "metadata": {},
   "outputs": [],
   "source": [
    "f2(dates['Observation date'])"
   ]
  },
  {
   "cell_type": "code",
   "execution_count": null,
   "metadata": {},
   "outputs": [],
   "source": [
    "# generate a linear regression model\n",
    "from sklearn.linear_model import LinearRegression\n",
    "from sklearn.metrics import mean_squared_error, r2_score\n",
    "\n",
    "# regress the observation dates against the average values\n",
    "regression_model = LinearRegression()\n",
    "regression_model.fit(series_data['Observation date'].values.reshape(-1, 1), series_data['Average.'].values.reshape(-1, 1))"
   ]
  },
  {
   "cell_type": "code",
   "execution_count": null,
   "metadata": {},
   "outputs": [],
   "source": [
    "# predict the average values from the observation dates\n",
    "y_predicted = regression_model.predict(series_data['Observation date'].values.reshape(-1, 1))"
   ]
  },
  {
   "cell_type": "code",
   "execution_count": null,
   "metadata": {},
   "outputs": [],
   "source": []
  }
 ],
 "metadata": {
  "kernelspec": {
   "display_name": "ShallowLearn",
   "language": "python",
   "name": "python3"
  },
  "language_info": {
   "codemirror_mode": {
    "name": "ipython",
    "version": 3
   },
   "file_extension": ".py",
   "mimetype": "text/x-python",
   "name": "python",
   "nbconvert_exporter": "python",
   "pygments_lexer": "ipython3",
   "version": "3.10.8"
  },
  "orig_nbformat": 4
 },
 "nbformat": 4,
 "nbformat_minor": 2
}
