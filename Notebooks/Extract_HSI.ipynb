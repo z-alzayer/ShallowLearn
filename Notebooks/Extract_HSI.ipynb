{
 "cells": [
  {
   "cell_type": "code",
   "execution_count": null,
   "metadata": {},
   "outputs": [],
   "source": [
    "%load_ext autoreload\n",
    "%autoreload 2"
   ]
  },
  {
   "cell_type": "code",
   "execution_count": null,
   "metadata": {},
   "outputs": [],
   "source": [
    "import pandas as pd\n",
    "import numpy as np\n",
    "import geopandas as gpd\n",
    "from shapely.geometry import box\n",
    "import rasterio\n",
    "from rasterio.warp import transform_geom, calculate_default_transform\n",
    "from shapely.geometry import Point, Polygon\n",
    "from ShallowLearn import LoadData\n",
    "from ShallowLearn.Training import reshape_data\n",
    "import matplotlib.pyplot as plt\n",
    "from  ShallowLearn import Transform\n",
    "from ShallowLearn import ImageHelper\n",
    "from ShallowLearn.Widgets import BandPlotter\n",
    "from ShallowLearn.Indices import ci, ndci, wqi, oci, bgr\n",
    "from ShallowLearn.band_mapping import band_mapping\n",
    "import os\n",
    "import glob"
   ]
  },
  {
   "cell_type": "code",
   "execution_count": null,
   "metadata": {},
   "outputs": [],
   "source": [
    "%matplotlib inline"
   ]
  },
  {
   "cell_type": "code",
   "execution_count": null,
   "metadata": {},
   "outputs": [],
   "source": [
    "# specify the directory path\n",
    "dir_path = '/media/ziad/Expansion/Cleaned_Data_Directory'\n",
    "\n",
    "# search for all .tiff files in the directory\n",
    "file_list = glob.glob(dir_path + '/*6880*.tiff')\n",
    "\n",
    "# get the full directory paths for each file\n",
    "dir_list = [os.path.join(dir_path, f) for f in file_list]\n",
    "\n",
    "file_dict = {}\n",
    "for file in dir_list:\n",
    "    s = file.split('/')[-1].split('.')[0]\n",
    "    date = s[12:20]\n",
    "    img = ImageHelper.load_img(file)\n",
    "    file_dict[date] = img"
   ]
  },
  {
   "cell_type": "code",
   "execution_count": null,
   "metadata": {},
   "outputs": [],
   "source": [
    "hsi_dict = {}\n",
    "for dates, arrs in file_dict.items():\n",
    "    #print(dates, arrs.shape)\n",
    "    hsi_dict[dates] = Transform.rgb_to_hsi(file_dict[dates])\n"
   ]
  },
  {
   "cell_type": "code",
   "execution_count": null,
   "metadata": {},
   "outputs": [],
   "source": [
    "hsi_dict.keys()"
   ]
  },
  {
   "cell_type": "code",
   "execution_count": null,
   "metadata": {},
   "outputs": [],
   "source": [
    "(hsi_dict[\"20160909\"]).shape"
   ]
  },
  {
   "cell_type": "code",
   "execution_count": null,
   "metadata": {},
   "outputs": [],
   "source": [
    "counter = 0\n",
    "for dates, arrs in hsi_dict.items():\n",
    "    if counter < 2:\n",
    "        plt.imshow(arrs[:,:,2])\n",
    "        plt.show()\n",
    "    #arrs[:,:,2] = Transform.linear_contrast_enhancement(arrs[:,:,2]) \n",
    "    counter += 1"
   ]
  },
  {
   "cell_type": "code",
   "execution_count": null,
   "metadata": {},
   "outputs": [],
   "source": [
    "red_channel = np.array([[255, np.nan, 0, 255],\n",
    "                       [255, 0, 0, 255],\n",
    "                       [255, 0, np.nan, 255],\n",
    "                       [255, 0, 0, 255]])\n",
    "\n",
    "green_channel = np.array([[0, 255, 0, 255],\n",
    "                         [0, np.nan, 0, 255],\n",
    "                         [0, 255, 0, 255],\n",
    "                         [0, 255, 0, 255]])\n",
    "\n",
    "blue_channel = np.array([[0, 0, 255, np.nan],\n",
    "                        [0, 0, 255, 255],\n",
    "                        [0, 0, 255, 255],\n",
    "                        [0, np.nan, 255, 255]])\n",
    "\n",
    "# Create the image array with three channels\n",
    "image_array = np.stack((red_channel, green_channel, blue_channel), axis=-1)"
   ]
  },
  {
   "cell_type": "code",
   "execution_count": null,
   "metadata": {},
   "outputs": [],
   "source": [
    "plt.imshow(image_array)"
   ]
  },
  {
   "cell_type": "code",
   "execution_count": null,
   "metadata": {},
   "outputs": [],
   "source": [
    "plt.imshow(Transform.rgb_to_hsi(image_array))"
   ]
  },
  {
   "cell_type": "code",
   "execution_count": null,
   "metadata": {},
   "outputs": [],
   "source": [
    "Transform.rgb_to_hsi(image_array).shape"
   ]
  },
  {
   "cell_type": "code",
   "execution_count": null,
   "metadata": {},
   "outputs": [],
   "source": [
    "hsi_array = Transform.rgb_to_hsi(image_array)"
   ]
  },
  {
   "cell_type": "code",
   "execution_count": null,
   "metadata": {},
   "outputs": [],
   "source": []
  },
  {
   "cell_type": "code",
   "execution_count": null,
   "metadata": {},
   "outputs": [],
   "source": [
    "hsi_array.shape"
   ]
  },
  {
   "cell_type": "code",
   "execution_count": null,
   "metadata": {},
   "outputs": [],
   "source": [
    "plt.imshow(Transform.hsi_to_rgb(hsi_array))"
   ]
  },
  {
   "cell_type": "code",
   "execution_count": null,
   "metadata": {},
   "outputs": [],
   "source": [
    "Transform.hsi_to_rgb(Transform.rgb_to_hsi(image_array))"
   ]
  },
  {
   "cell_type": "code",
   "execution_count": null,
   "metadata": {},
   "outputs": [],
   "source": [
    "plt.imshow(Transform.hsi_to_rgb(Transform.rgb_to_hsi(image_array)))"
   ]
  },
  {
   "cell_type": "code",
   "execution_count": null,
   "metadata": {},
   "outputs": [],
   "source": [
    "HSI = np.array([[[120, 1, 0.5]]])  # This should correspond to pure green\n",
    "# Convert the HSI image to an RGB image\n",
    "RGB = Transform.hsi_to_rgb(HSI)"
   ]
  },
  {
   "cell_type": "code",
   "execution_count": null,
   "metadata": {},
   "outputs": [],
   "source": [
    "RGB"
   ]
  },
  {
   "cell_type": "code",
   "execution_count": null,
   "metadata": {},
   "outputs": [],
   "source": [
    "np.unique(Transform.hsi_to_rgb(HSI))"
   ]
  },
  {
   "cell_type": "code",
   "execution_count": null,
   "metadata": {},
   "outputs": [],
   "source": [
    "plt.imshow((Transform.hsi_to_rgb(arrs)))"
   ]
  },
  {
   "cell_type": "code",
   "execution_count": null,
   "metadata": {},
   "outputs": [],
   "source": [
    "%matplotlib widget"
   ]
  },
  {
   "cell_type": "code",
   "execution_count": null,
   "metadata": {},
   "outputs": [],
   "source": [
    "from ShallowLearn.Widgets import BandPlotter\n",
    "hsi_img = Transform.LCE_multi(hsi_dict[dates])\n",
    "BandPlotter(hsi_img)"
   ]
  },
  {
   "cell_type": "code",
   "execution_count": null,
   "metadata": {},
   "outputs": [],
   "source": [
    "file_dict[dates].shape"
   ]
  },
  {
   "cell_type": "code",
   "execution_count": null,
   "metadata": {},
   "outputs": [],
   "source": [
    "lab = ImageHelper.plot_lab(file_dict[dates])"
   ]
  },
  {
   "cell_type": "code",
   "execution_count": null,
   "metadata": {},
   "outputs": [],
   "source": [
    "lab[:,:,0] = hsi_img[:,:,2]"
   ]
  },
  {
   "cell_type": "code",
   "execution_count": null,
   "metadata": {},
   "outputs": [],
   "source": [
    "lab"
   ]
  },
  {
   "cell_type": "code",
   "execution_count": null,
   "metadata": {},
   "outputs": [],
   "source": [
    "BandPlotter(lab)"
   ]
  },
  {
   "cell_type": "code",
   "execution_count": null,
   "metadata": {},
   "outputs": [],
   "source": [
    "ImageHelper.plot_rgb(lab)"
   ]
  },
  {
   "cell_type": "code",
   "execution_count": null,
   "metadata": {},
   "outputs": [],
   "source": [
    "from skimage import color"
   ]
  },
  {
   "cell_type": "code",
   "execution_count": null,
   "metadata": {},
   "outputs": [],
   "source": [
    "plt.imshow(color.lab2rgb(lab))"
   ]
  },
  {
   "cell_type": "code",
   "execution_count": null,
   "metadata": {},
   "outputs": [],
   "source": []
  }
 ],
 "metadata": {
  "kernelspec": {
   "display_name": "ShallowLearn",
   "language": "python",
   "name": "python3"
  },
  "language_info": {
   "codemirror_mode": {
    "name": "ipython",
    "version": 3
   },
   "file_extension": ".py",
   "mimetype": "text/x-python",
   "name": "python",
   "nbconvert_exporter": "python",
   "pygments_lexer": "ipython3",
   "version": "3.10.8"
  },
  "orig_nbformat": 4
 },
 "nbformat": 4,
 "nbformat_minor": 2
}
